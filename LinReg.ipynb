{
 "cells": [
  {
   "cell_type": "code",
   "execution_count": 33,
   "metadata": {
    "collapsed": true
   },
   "outputs": [],
   "source": [
    "import numpy as np\n",
    "import matplotlib.pyplot as plt\n",
    "import seaborn as sns\n",
    "from ipywidgets import interact, interactive, fixed\n",
    "import ipywidgets as widgets\n",
    "\n",
    "sns.set()\n",
    "%matplotlib inline"
   ]
  },
  {
   "cell_type": "code",
   "execution_count": 53,
   "metadata": {},
   "outputs": [
    {
     "data": {
      "text/plain": [
       "<matplotlib.collections.PathCollection at 0x7f489456d8d0>"
      ]
     },
     "execution_count": 53,
     "metadata": {},
     "output_type": "execute_result"
    },
    {
     "data": {
      "image/png": "[encoded data removed]",
      "text/plain": [
       "<matplotlib.figure.Figure at 0x7f4894446e10>"
      ]
     },
     "metadata": {},
     "output_type": "display_data"
    }
   ],
   "source": [
    "# Generate data\n",
    "data_points = 100\n",
    "dispersion = np.random.randint(low = 5, high = 20)\n",
    "\n",
    "x_test = np.arange(data_points)\n",
    "y_test = dispersion * np.random.randn(data_points) + x_test\n",
    "\n",
    "plt.figure(figsize = (10,10))\n",
    "plt.scatter(x_test,y_test)"
   ]
  },
  {
   "cell_type": "code",
   "execution_count": 78,
   "metadata": {
    "collapsed": true
   },
   "outputs": [],
   "source": [
    "# Error Function for Line of Best Fit\n",
    "def error_sum(x, y, slope, intercept):\n",
    "        return sum(abs(y - slope*x - intercept))"
   ]
  },
  {
   "cell_type": "code",
   "execution_count": 79,
   "metadata": {},
   "outputs": [
    {
     "data": {
      "application/vnd.jupyter.widget-view+json": {
       "model_id": "d667cab99b8247a9ab31f3c8257e330e",
       "version_major": 2,
       "version_minor": 0
      },
      "text/plain": [
       "A Jupyter Widget"
      ]
     },
     "metadata": {},
     "output_type": "display_data"
    },
    {
     "data": {
      "text/plain": [
       "<function __main__.guess_line>"
      ]
     },
     "execution_count": 79,
     "metadata": {},
     "output_type": "execute_result"
    }
   ],
   "source": [
    "def guess_line(slope, intercept):\n",
    "    x = np.arange(100)\n",
    "    y = x * slope + intercept\n",
    "    plt.figure(figsize= (10,10))\n",
    "    plt.ylim([-20,200])\n",
    "    plt.xlim([-5,100])\n",
    "    plt.text(10, 85, s = \"y = {} * x + {}\".format(slope,intercept), fontsize = 15)\n",
    "    plt.text(10, 75, s = \"error = {:.2f}\".format(error_sum(x_test,y_test, slope,intercept)), fontsize = 15)\n",
    "    plt.title(\"Line of Best Fit Visualization\", fontsize = 15)\n",
    "    plt.plot(x,y, 'r')\n",
    "    plt.scatter(x_test,y_test)\n",
    "    \n",
    "    plt.show()\n",
    "\n",
    "interact(guess_line, slope = (0,2,0.1), intercept  = (0,20))"
   ]
  },
  {
   "cell_type": "code",
   "execution_count": null,
   "metadata": {
    "collapsed": true
   },
   "outputs": [],
   "source": []
  }
 ],
 "metadata": {
  "kernelspec": {
   "display_name": "Python 3",
   "language": "python",
   "name": "python3"
  },
  "language_info": {
   "codemirror_mode": {
    "name": "ipython",
    "version": 3
   },
   "file_extension": ".py",
   "mimetype": "text/x-python",
   "name": "python",
   "nbconvert_exporter": "python",
   "pygments_lexer": "ipython3",
   "version": "3.6.2"
  }
 },
 "nbformat": 4,
 "nbformat_minor": 2
}
